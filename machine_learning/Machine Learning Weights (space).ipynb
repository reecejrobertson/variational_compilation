{
 "cells": [
  {
   "cell_type": "code",
   "execution_count": 210,
   "id": "2a379dc4-31c8-4db4-8006-56204299c851",
   "metadata": {},
   "outputs": [
    {
     "name": "stdout",
     "output_type": "stream",
     "text": [
      "The autoreload extension is already loaded. To reload it, use:\n",
      "  %reload_ext autoreload\n"
     ]
    }
   ],
   "source": [
    "%load_ext autoreload\n",
    "%autoreload 2\n",
    "%matplotlib inline"
   ]
  },
  {
   "cell_type": "code",
   "execution_count": 211,
   "id": "4d2200ee-5a61-4fe8-bba1-4812764370b9",
   "metadata": {},
   "outputs": [],
   "source": [
    "import sys\n",
    "import os\n",
    "import pickle\n",
    "sys.path.append(\"../vff\")\n",
    "\n",
    "from run_1d import main \n",
    "import torch\n",
    "\n",
    "import itertools as it\n",
    "import numpy as np\n",
    "import matplotlib.pyplot as plt\n",
    "\n",
    "from matplotlib.colors import Normalize, LinearSegmentedColormap\n",
    "from matplotlib.colorbar import ColorbarBase"
   ]
  },
  {
   "cell_type": "markdown",
   "id": "fd675a2c-8060-4c99-8dec-a86885cd5d4d",
   "metadata": {},
   "source": [
    "# Get training data"
   ]
  },
  {
   "cell_type": "markdown",
   "id": "38d060e3-997c-4bbd-9159-5d5f3fb3f502",
   "metadata": {},
   "source": [
    "## Runing Ising with double space to generate data for different L"
   ]
  },
  {
   "cell_type": "markdown",
   "id": "a3f69d24-02eb-4ef2-b74f-7b21960f2a94",
   "metadata": {},
   "source": [
    "We want to create a data set $\\mathcal{D}\\{x_i, \\boldsymbol{y}_i\\}$ where $x_i$ are the system sizes and $\\boldsymbol{y}_i$ are the weights of the two layers. We fix the parameters of the Hamiltonian and time."
   ]
  },
  {
   "cell_type": "code",
   "execution_count": 3,
   "id": "f6aaea5d-8cae-4389-bbbe-41c3fcb6a92e",
   "metadata": {},
   "outputs": [],
   "source": [
    "config = {\n",
    "    # MODEL\n",
    "    'L': 4,\n",
    "    'hamiltonian': 'ising',\n",
    "    't': 0.5,\n",
    "    # TEBD\n",
    "    'test_size': 100,  # number of states in test ensemble\n",
    "    'tebd_test_steps': 20,  # number of steps in TEBD\n",
    "    'max_bond': None,  # maximum bond dimension in tebd\n",
    "    'tebd_cutoff': 1e-10,  # maximum bond dimension in tebd\n",
    "    # 'ctg': True,\n",
    "    # TRAINING\n",
    "    'circuit_name': 'brickwall',\n",
    "    'circuit_translation': True,  # translation invariant circuit\n",
    "    'num_steps': 1000,  # maximum number of optimization steps\n",
    "    'num_samples': 8,  # number of training samples\n",
    "    'training_states': 'product',\n",
    "    # STRATEGY`\n",
    "    'training_strategy': 'double_space',\n",
    "    # HOTSTART\n",
    "    'depth': 2,  # maximum circuit depth\n",
    "    'max_factor': 6,  # increase depth per step\n",
    "    # OPTIMIZATION\n",
    "    'learning_rate': 0.001,\n",
    "    'learning_rate_schedule': lambda opt: torch.optim.lr_scheduler.StepLR(opt, step_size=200, gamma=0.5),\n",
    "    # META\n",
    "    'TRAIN': True,\n",
    "    'TEST': True,\n",
    "    'TEST_UNITARY': False,\n",
    "    'PLOT': False,\n",
    "    'SHOW': False,\n",
    "    'SEED': 0\n",
    "}"
   ]
  },
  {
   "cell_type": "code",
   "execution_count": 4,
   "id": "0e9ad8fc-f9f4-4fa8-b2cd-b2a7c05d2c2d",
   "metadata": {},
   "outputs": [
    {
     "name": "stdout",
     "output_type": "stream",
     "text": [
      "Model ising of size 4 at time 0.500\n",
      "\n",
      "TEBD steps: 10\n",
      "TEBD max bond dimension: None\n",
      "TEBD cutoff: 1e-10\n",
      "\n",
      "(double_space) Depth = 2\n",
      "(double_space) Max factor = 6\n",
      "\n",
      "Circuit: brickwall\n",
      "Translation: True\n",
      "Type of training state: product\n",
      "Number of steps: 1000\n",
      "Number of samples: 8\n",
      "Training strategy: double_space\n",
      "\n",
      "Training for t=0.500 - L=4\n",
      "Restored train dataset from file\n",
      "TEBD error: 9.291884727795226e-06\n",
      "DEPTH = 2\n",
      "Data for depth 2 exists, loss = 0.029237315678277143\n",
      "Test loss for 100 samples = 0.05471287912706968\n",
      "Training for t=0.500 - L=8\n",
      "Restored train dataset from file\n",
      "TEBD error: 9.473363606013615e-06\n",
      "DEPTH = 2\n",
      "Data for depth 2 exists, loss = 0.02423532608808243\n",
      "Test loss for 100 samples = 0.026522605403525135\n",
      "Training for t=0.500 - L=16\n",
      "Restored train dataset from file\n",
      "TEBD error: 9.551145849378794e-06\n",
      "DEPTH = 2\n",
      "Data for depth 2 exists, loss = 0.055707587145647164\n",
      "Test loss for 100 samples = 0.05900537219708857\n",
      "Training for t=0.500 - L=32\n",
      "Restored train dataset from file\n",
      "TEBD error: 9.587341219259096e-06\n",
      "DEPTH = 2\n",
      "Data for depth 2 exists, loss = 0.11954504980245373\n",
      "Test loss for 100 samples = 0.12147384802559458\n",
      "Training for t=0.500 - L=64\n",
      "Restored train dataset from file\n",
      "TEBD error: 9.604820497234555e-06\n",
      "DEPTH = 2\n",
      "Data for depth 2 exists, loss = 0.2233616106013101\n",
      "Test loss for 100 samples = 0.23012429323611727\n",
      "Training for t=0.500 - L=128\n",
      "Restored train dataset from file\n",
      "TEBD error: 9.613411849169198e-06\n",
      "DEPTH = 2\n",
      "Data for depth 2 exists, loss = 0.40386532201927317\n",
      "Test loss for 100 samples = 0.4112234573491734\n"
     ]
    }
   ],
   "source": [
    "main(config)"
   ]
  },
  {
   "cell_type": "markdown",
   "id": "e3a282ad-9cef-4b97-a9ee-20d51aedf3ff",
   "metadata": {},
   "source": [
    "# Creating dataset"
   ]
  },
  {
   "cell_type": "code",
   "execution_count": 204,
   "id": "e1b97ee4-1ee8-4b7f-8490-ff1d959eda32",
   "metadata": {},
   "outputs": [],
   "source": [
    "config_path = config.copy()\n",
    "config_path['GET_PATH'] = True\n",
    "config_path['PRINT'] = False\n",
    "\n",
    "save_path = main(config_path)\n",
    "L_list = [2**i for i in range(2, config['max_factor']+2)]\n",
    "depth = config['depth']\n",
    "data_x = []\n",
    "data_y = []\n",
    "infidelities = []\n",
    "for L in L_list:\n",
    "    save_path_L = f\"{save_path}/L_{L}/depth_{2}/ckpts/parameters.ckpt\"\n",
    "    fid = np.load(f\"{save_path}/L_{L}/depth_{2}/test_loss_100.npy\")\n",
    "    infidelities.append(fid)\n",
    "    # Input data x is the system size\n",
    "    data_x.append(L)\n",
    "    # Output are flattened parameters\n",
    "    # Load parameters and flatten them\n",
    "    parameters = torch.load(save_path_L)\n",
    "    parameters_flattened = []\n",
    "    for k in parameters.keys():\n",
    "        pflat = np.array(parameters[k]).flatten()\n",
    "        parameters_flattened.append(np.concatenate([pflat.real, pflat.imag]))\n",
    "    data_y.append(np.stack(parameters_flattened))"
   ]
  },
  {
   "cell_type": "markdown",
   "id": "705b1b5d-f03c-4be1-9832-de1488da43e8",
   "metadata": {},
   "source": [
    "## Let's look at the data"
   ]
  },
  {
   "cell_type": "code",
   "execution_count": 6,
   "id": "1a0069da-57a9-413c-bf94-2a08e2010e72",
   "metadata": {},
   "outputs": [],
   "source": [
    "fig, axs = plt.subplots(1,2)\n",
    "fig.set_size_inches(8,4)\n",
    "for x,y in zip(data_x, data_y):\n",
    "    axs[0].plot(y[0], label=f'L={x}')\n",
    "    axs[0].set_title('Layer 1')\n",
    "    axs[1].plot(y[1], label=f'L={x}')\n",
    "    axs[1].set_title('Layer 2')\n",
    "for ax in axs:\n",
    "    ax.set_ylabel('$W_i')\n",
    "    ax.set_ylabel('$i')\n",
    "axs[0].legend()\n",
    "plt.show()"
   ]
  },
  {
   "cell_type": "markdown",
   "id": "634b4d11-a9d8-44ed-8990-dd94babd7345",
   "metadata": {},
   "source": [
    "Weights seem to converge to brown line and is in domain [-1,1]... Should be easy to learn. Let's split the training data in $L_{train}=4,8,16,32$ and $L_{test}= 64,128,$"
   ]
  },
  {
   "cell_type": "code",
   "execution_count": 7,
   "id": "517bd798-e7ef-4ab4-9cbf-5d102357745c",
   "metadata": {},
   "outputs": [],
   "source": [
    "from torch.utils.data import Dataset"
   ]
  },
  {
   "cell_type": "code",
   "execution_count": 8,
   "id": "4d7cf873-1e52-4f58-a7d0-506f6980fb7d",
   "metadata": {},
   "outputs": [
    {
     "name": "stdout",
     "output_type": "stream",
     "text": [
      "Train inputs: L = [4, 8, 16, 32]\n",
      "Test inputs: L = [64, 128]\n",
      "Output_size: 64\n",
      "Data set size: 4\n"
     ]
    }
   ],
   "source": [
    "data_y = [d.flatten() for d in data_y]\n",
    "data_x_train, data_x_test = data_x[:4], data_x[4:]\n",
    "data_y_train, data_y_test = data_y[:4], data_y[4:]\n",
    "print(f\"Train inputs: L = {data_x_train}\")\n",
    "print(f\"Test inputs: L = {data_x_test}\")\n",
    "output_size = data_y_train[0].shape[0]\n",
    "print(f\"Output_size: {output_size}\")\n",
    "data_set_size = len(data_y_train)\n",
    "print(f\"Data set size: {data_set_size}\")\n"
   ]
  },
  {
   "cell_type": "markdown",
   "id": "decf480c-0606-40f6-b08e-8387a63b0d2c",
   "metadata": {},
   "source": [
    "# Creating a simple Neural Network"
   ]
  },
  {
   "cell_type": "code",
   "execution_count": 9,
   "id": "ee1d5d8a-8ce8-4088-be50-e851c17bdf4f",
   "metadata": {},
   "outputs": [],
   "source": [
    "import torch.nn.functional as F\n",
    "import torch.nn as nn\n",
    "\n",
    "from torch.utils.data import DataLoader\n",
    "\n",
    "import tqdm"
   ]
  },
  {
   "cell_type": "code",
   "execution_count": 174,
   "id": "174c2bb0-7da4-46b4-9193-a43410f6629e",
   "metadata": {},
   "outputs": [],
   "source": [
    "class Net(nn.Module):\n",
    "    def __init__(self, output_size):\n",
    "      super(Net, self).__init__()\n",
    "      self.dense_1 = nn.Linear(1, 100)\n",
    "      self.dense_2 = nn.Linear(100, 100)\n",
    "      self.dense_out = nn.Linear(100, output_size)\n",
    "    # x represents our data\n",
    "    def forward(self, x):\n",
    "        # Pass data through conv1\n",
    "      x = self.dense_1(x)\n",
    "      # Use the rectified-linear activation function over x\n",
    "      x = F.sigmoid(x)\n",
    "\n",
    "      x = self.dense_2(x)\n",
    "      x = F.sigmoid(x)\n",
    "        \n",
    "      x = self.dense_out(x)\n",
    "      output = F.tanh(x)\n",
    "\n",
    "      return output"
   ]
  },
  {
   "cell_type": "code",
   "execution_count": 175,
   "id": "61ef9bbe-fd60-44f4-8e7f-6b8413f0ceb6",
   "metadata": {},
   "outputs": [
    {
     "name": "stdout",
     "output_type": "stream",
     "text": [
      "Output: tensor([-0.1010,  0.0584,  0.4454, -0.3453,  0.2222, -0.0320,  0.1367,  0.2515,\n",
      "        -0.1189,  0.2737,  0.3223,  0.2989, -0.1985, -0.2690, -0.0135,  0.1701,\n",
      "        -0.1244, -0.2290, -0.0312,  0.0984, -0.1008, -0.0171,  0.1356,  0.2731,\n",
      "        -0.2368,  0.2796,  0.0826,  0.3426,  0.1162,  0.0555,  0.2055,  0.1860,\n",
      "        -0.0456, -0.1813, -0.0469,  0.1502,  0.1076,  0.3557, -0.4843,  0.2280,\n",
      "         0.2714,  0.2094, -0.5756,  0.2366,  0.5385,  0.1739, -0.0430, -0.0529,\n",
      "         0.1947, -0.1593,  0.2134,  0.1366,  0.3105,  0.6269,  0.0942, -0.1444,\n",
      "         0.1521,  0.1880, -0.1107, -0.0475, -0.1395,  0.3023, -0.6750, -0.2109],\n",
      "       grad_fn=<SelectBackward0>)\n"
     ]
    }
   ],
   "source": [
    "model = Net(output_size)\n",
    "test_output = model(torch.tensor(data_x_train, dtype=torch.float32)[:,None])\n",
    "print(f\"Output: {test_output[0]}\")"
   ]
  },
  {
   "cell_type": "markdown",
   "id": "4bce1579-7ff9-4dbc-a852-b429a06fc9ee",
   "metadata": {},
   "source": [
    "## Creating a Dataset instance in Torch"
   ]
  },
  {
   "cell_type": "code",
   "execution_count": 196,
   "id": "aa14a01f-b86f-4d0e-8b73-f45e8be6544c",
   "metadata": {},
   "outputs": [],
   "source": [
    "class MPSWeightDataset(Dataset):\n",
    "    def __init__(self, x, y):\n",
    "        self.data = torch.tensor(x, dtype=torch.float32)[:,None]\n",
    "        self.labels = torch.tensor(y, dtype=torch.float32)\n",
    "\n",
    "    def __len__(self):\n",
    "        return len(self.labels)\n",
    "\n",
    "    def __getitem__(self, idx):\n",
    "        return self.data[idx], self.labels[idx]"
   ]
  },
  {
   "cell_type": "markdown",
   "id": "4b2f855a-7620-4cec-a4ff-30f896bd94aa",
   "metadata": {},
   "source": [
    "We're performing online learning, so there are no separate batches. For larger data sets, we may want to set the batch size to 64 to train the model in steps."
   ]
  },
  {
   "cell_type": "code",
   "execution_count": 197,
   "id": "8c9b0c62-e484-49a6-972a-941bb891f054",
   "metadata": {},
   "outputs": [],
   "source": [
    "train_dataloader = DataLoader(MPSWeightDataset(data_x_train, data_y_train), batch_size=data_set_size)\n",
    "test_dataloader = DataLoader(MPSWeightDataset(data_x_test, data_y_test), batch_size=data_set_size)"
   ]
  },
  {
   "cell_type": "markdown",
   "id": "fb69c47c-de0e-4fb1-83cd-f1fbe714ab99",
   "metadata": {},
   "source": [
    "## Create training and test loop"
   ]
  },
  {
   "cell_type": "code",
   "execution_count": 198,
   "id": "a9667fd6-7dcb-4a16-a569-ec37914db5a4",
   "metadata": {},
   "outputs": [],
   "source": [
    "def train_loop(dataloader, model, loss_fn, optimizer):\n",
    "    size = len(dataloader.dataset)\n",
    "    # Set the model to training mode - important for batch normalization and dropout layers\n",
    "    # Unnecessary in this situation but added for best practices\n",
    "    model.train()\n",
    "    for batch, (X, y) in enumerate(dataloader):\n",
    "        # Compute prediction and loss\n",
    "        pred = model(X)\n",
    "        loss = loss_fn(pred, y)\n",
    "\n",
    "        # Backpropagation\n",
    "        loss.backward()\n",
    "        optimizer.step()\n",
    "        optimizer.zero_grad()\n",
    "    return loss.item()\n",
    "\n",
    "\n",
    "def test_loop(dataloader, model, loss_fn):\n",
    "    # Set the model to evaluation mode - important for batch normalization and dropout layers\n",
    "    # Unnecessary in this situation but added for best practices\n",
    "    model.eval()\n",
    "    size = len(dataloader.dataset)\n",
    "    test_loss = 0\n",
    "\n",
    "    # Evaluating the model with torch.no_grad() ensures that no gradients are computed during test mode\n",
    "    # also serves to reduce unnecessary gradient computations and memory usage for tensors with requires_grad=True\n",
    "    with torch.no_grad():\n",
    "        for X, y in dataloader:\n",
    "            pred = model(X)\n",
    "            test_loss += loss_fn(pred, y).item()\n",
    "\n",
    "    return  test_loss / size\n"
   ]
  },
  {
   "cell_type": "markdown",
   "id": "18e2b7c5-353f-4f7f-8531-c7030f4bdd47",
   "metadata": {},
   "source": [
    "An epoch in Machine learning is one step where the model has seen all the data. We use an MSE combined with Adam to find the correct weights."
   ]
  },
  {
   "cell_type": "code",
   "execution_count": 199,
   "id": "6cdf67ca-b8b2-4e2f-9fec-35ce45ca91a0",
   "metadata": {},
   "outputs": [
    {
     "name": "stdout",
     "output_type": "stream",
     "text": [
      "Test loss before train: 0.09271930903196335!\n"
     ]
    },
    {
     "name": "stderr",
     "output_type": "stream",
     "text": [
      "\tTrain loss=2.0497715013334528e-05: 100%|█████████████████████████| 1000/1000 [00:01<00:00, 937.40it/s]                                                                                                                  "
     ]
    },
    {
     "name": "stdout",
     "output_type": "stream",
     "text": [
      "Test loss after train: 3.5051223676418886e-05!\n"
     ]
    },
    {
     "name": "stderr",
     "output_type": "stream",
     "text": [
      "\n"
     ]
    }
   ],
   "source": [
    "epochs = 1000\n",
    "learning_rate = 1e-3\n",
    "losses = []\n",
    "\n",
    "loss_fn = nn.MSELoss()\n",
    "model = Net(output_size)\n",
    "optimizer = torch.optim.Adam(model.parameters(), lr=learning_rate)\n",
    "\n",
    "test_loss = test_loop(test_dataloader, model, loss_fn)\n",
    "print(f\"Test loss before train: {test_loss}!\")\n",
    "pbar = tqdm.tqdm(range(epochs), bar_format=\"\\t{l_bar}{bar:25}{r_bar}{bar:-25b}\")\n",
    "for step in pbar:\n",
    "    loss = train_loop(train_dataloader, model, loss_fn, optimizer)\n",
    "    pbar.set_description(f\"Train loss={loss}\")\n",
    "    losses.append(loss)\n",
    "test_loss = test_loop(test_dataloader, model, loss_fn)\n",
    "print(f\"Test loss after train: {test_loss}!\")"
   ]
  },
  {
   "cell_type": "code",
   "execution_count": 226,
   "id": "ddeb7aaf-9871-45c4-8a87-ecae3037efcd",
   "metadata": {},
   "outputs": [
    {
     "name": "stdout",
     "output_type": "stream",
     "text": [
      "3.5051223676418886e-05\n"
     ]
    },
    {
     "data": {
      "image/png": "[encoded data removed]",
      "text/plain": [
       "<Figure size 640x480 with 1 Axes>"
      ]
     },
     "metadata": {},
     "output_type": "display_data"
    }
   ],
   "source": [
    "plt.plot(np.abs(losses), label='Train loss')\n",
    "print(test_loss)\n",
    "plt.hlines(test_loss, 0, 1000, label='Test loss', color='gray',linestyle='dashed')\n",
    "plt.xlabel('train step')\n",
    "plt.ylabel('MSE')\n",
    "plt.yscale('log')\n",
    "plt.legend()\n",
    "plt.ylim([1e-5, 1])\n",
    "plt.grid()\n",
    "plt.savefig(\"loss.png\")"
   ]
  },
  {
   "cell_type": "markdown",
   "id": "ff9a75b7-c3d3-4d85-8056-d8970746de23",
   "metadata": {},
   "source": [
    "We see that we can quickly train the model to predict the correct weights for $L_{train}=4,8,16,32$. The test loss indicates that we can then produce the weights for $L_{test}= 64,128,$ with very high accuracy, even though they were never seen in the training data. The test loss is higher because we overfit on the test data."
   ]
  },
  {
   "cell_type": "markdown",
   "id": "25b2213a-168f-4fae-b3eb-9f46c659b278",
   "metadata": {},
   "source": [
    "# Predicting new weights for L=256"
   ]
  },
  {
   "cell_type": "code",
   "execution_count": 200,
   "id": "64fadcb7-9042-40f2-955f-b51c88a3791a",
   "metadata": {},
   "outputs": [],
   "source": [
    "from tn.mps_circuit import TNModel, qmps_brick, qmps_brick_quasi_1d, create_targets, load_gates\n",
    "from tn.data_states import random_product_state, \\\n",
    "    random_mps_state, get_make_data_set_fn, random_U1_state\n",
    "from tn.tebd import ising_hamiltonian_quimb, \\\n",
    "    longitudinal_ising_hamiltonian_quimb, \\\n",
    "    heisenberg_hamiltonian_quimb, \\\n",
    "    mbl_hamiltonian_quimb\n",
    "from tn.trotter import trotter_evolution_optimized_nn_ising_tn"
   ]
  },
  {
   "cell_type": "markdown",
   "id": "32844cd5-2534-4088-8fc7-61a1b2d43d67",
   "metadata": {},
   "source": [
    "We can now use the model to predict weights for other system sizes:"
   ]
  },
  {
   "cell_type": "code",
   "execution_count": 201,
   "id": "6fc49c1e-a0c3-4b04-b7de-5f3e433e8273",
   "metadata": {},
   "outputs": [],
   "source": [
    "new_L = 256\n",
    "new_L_weights= model(torch.tensor([new_L], dtype=torch.float32)[:,None])\n",
    "new_L_weights_split = np.split(new_L_weights.detach().numpy().flatten(), config['depth']*2)\n",
    "predicted_parameters = []\n",
    "for i in range(0, config['depth']*2,2):\n",
    "    predicted_parameters.append(torch.tensor(new_L_weights_split[i].reshape([2]*4)+1j*new_L_weights_split[i+1].reshape([2]*4)))"
   ]
  },
  {
   "cell_type": "code",
   "execution_count": 202,
   "id": "e184cf51-2a05-4052-a842-73c85fd0ea6a",
   "metadata": {},
   "outputs": [],
   "source": [
    "SEED = config['SEED']\n",
    "hamiltonian = config['hamiltonian']\n",
    "t = config['t']\n",
    "depth = config['depth']\n",
    "num_samples = 20\n",
    "circuit_translation =  config['circuit_translation']\n",
    "\n",
    "g = config.get('g', 1.0)\n",
    "tebd_cutoff = config.get('tebd_cutoff', -1)  # What is the SVD cutoff for TEBD\n",
    "tebd_max_bond = config.get('max_bond', 20)  # What is the bond dimension cutoff for TEBD\n",
    "tebd_opts = {'cutoff': tebd_cutoff, 'max_bond': tebd_max_bond}\n",
    "\n",
    "tebd_granularity =  int(np.round(t / 0.05))\n",
    "H = lambda x: ising_hamiltonian_quimb(x, 1.0, g)\n",
    "get_training_state = lambda x, s: random_product_state(x, s)\n",
    "\n",
    "make_data_set = get_make_data_set_fn(hamiltonian, H(new_L), tebd_granularity, tebd_opts, False)\n",
    "psi0_list_train, psit_list_train, tebd_errors = make_data_set(lambda x: get_training_state(new_L, x),\n",
    "                                                              t,\n",
    "                                                              num_samples, SEED)\n",
    "psi_pqc = qmps_brick(new_L, in_depth=depth, rand=False, val_iden=0.01)\n",
    "psi, psi_tars = create_targets(new_L, psi_pqc, psi0_list_train, psit_list_train, device='cpu')\n",
    "mps_model = TNModel(psi, psi_tars, translation=circuit_translation)"
   ]
  },
  {
   "cell_type": "code",
   "execution_count": 206,
   "id": "59c311e8-ef5e-4ccc-940e-74e7415fb708",
   "metadata": {},
   "outputs": [
    {
     "name": "stdout",
     "output_type": "stream",
     "text": [
      "Inidelity before: tensor(0.6797, dtype=torch.float64, grad_fn=<RsubBackward1>)\n",
      "Infidelity with predicted weights: tensor(0.6797, dtype=torch.float64, grad_fn=<RsubBackward1>)\n"
     ]
    }
   ],
   "source": [
    "print(\"Inidelity before:\", mps_model())\n",
    "par_names = [f\"torch_params.{i}\" for i in range(config['depth'])]\n",
    "param_dict = dict(zip(par_names, predicted_parameters))\n",
    "mps_model.load_state_dict(param_dict, strict=True)\n",
    "mps_model.eval()\n",
    "predicted_infidelity = mps_model()\n",
    "print(\"Infidelity with predicted weights:\", mps_model())"
   ]
  },
  {
   "cell_type": "markdown",
   "id": "8b8a640c-63fe-4eee-8024-1fc57c015a94",
   "metadata": {},
   "source": [
    "We get a reasonable infidelity for "
   ]
  },
  {
   "cell_type": "code",
   "execution_count": 227,
   "id": "3b6bdcd2-7b19-4363-a1c7-41bc370f0183",
   "metadata": {},
   "outputs": [
    {
     "data": {
      "image/png": "[encoded data removed]",
      "text/plain": [
       "<Figure size 640x480 with 1 Axes>"
      ]
     },
     "metadata": {},
     "output_type": "display_data"
    }
   ],
   "source": [
    "plt.plot(L_list, infidelities)\n",
    "plt.scatter(new_L, predicted_infidelity.detach().numpy())\n",
    "plt.xlabel('L')\n",
    "plt.ylabel('infidelity')\n",
    "plt.yscale('log')\n",
    "plt.ylim(1e-3, 1)\n",
    "plt.grid()\n",
    "plt.savefig(\"infidelity.png\")\n",
    "plt.show()"
   ]
  },
  {
   "cell_type": "markdown",
   "id": "f8005dda-4c82-48dd-9dea-1cbb7f1c3e83",
   "metadata": {},
   "source": [
    "Seems like a reasonable fidelity!"
   ]
  },
  {
   "cell_type": "code",
   "execution_count": null,
   "id": "f215bfeb-5ba9-4415-b090-5d74032771af",
   "metadata": {},
   "outputs": [],
   "source": []
  }
 ],
 "metadata": {
  "kernelspec": {
   "display_name": "Python 3 (ipykernel)",
   "language": "python",
   "name": "python3"
  },
  "language_info": {
   "codemirror_mode": {
    "name": "ipython",
    "version": 3
   },
   "file_extension": ".py",
   "mimetype": "text/x-python",
   "name": "python",
   "nbconvert_exporter": "python",
   "pygments_lexer": "ipython3",
   "version": "3.12.3"
  }
 },
 "nbformat": 4,
 "nbformat_minor": 5
}
